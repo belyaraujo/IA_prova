{
  "nbformat": 4,
  "nbformat_minor": 0,
  "metadata": {
    "colab": {
      "provenance": [],
      "gpuType": "T4"
    },
    "kernelspec": {
      "name": "python3",
      "display_name": "Python 3"
    },
    "language_info": {
      "name": "python"
    },
    "accelerator": "GPU"
  },
  "cells": [
    {
      "cell_type": "code",
      "source": [
        "from google.colab import drive\n",
        "drive.mount('/content/drive')"
      ],
      "metadata": {
        "colab": {
          "base_uri": "https://localhost:8080/"
        },
        "id": "JHZ7GhqoRjDX",
        "outputId": "e2673127-fe34-4126-8e99-52d7e9e17be7"
      },
      "execution_count": 2,
      "outputs": [
        {
          "output_type": "stream",
          "name": "stdout",
          "text": [
            "Drive already mounted at /content/drive; to attempt to forcibly remount, call drive.mount(\"/content/drive\", force_remount=True).\n"
          ]
        }
      ]
    },
    {
      "cell_type": "code",
      "source": [
        "pip install roboflow"
      ],
      "metadata": {
        "id": "sY18JozXEgeT",
        "colab": {
          "base_uri": "https://localhost:8080/"
        },
        "outputId": "b06e294e-2bc3-44a7-c523-bca49e1508d3"
      },
      "execution_count": 3,
      "outputs": [
        {
          "output_type": "stream",
          "name": "stdout",
          "text": [
            "Requirement already satisfied: roboflow in /usr/local/lib/python3.10/dist-packages (1.1.2)\n",
            "Requirement already satisfied: certifi==2022.12.7 in /usr/local/lib/python3.10/dist-packages (from roboflow) (2022.12.7)\n",
            "Requirement already satisfied: chardet==4.0.0 in /usr/local/lib/python3.10/dist-packages (from roboflow) (4.0.0)\n",
            "Requirement already satisfied: cycler==0.10.0 in /usr/local/lib/python3.10/dist-packages (from roboflow) (0.10.0)\n",
            "Requirement already satisfied: idna==2.10 in /usr/local/lib/python3.10/dist-packages (from roboflow) (2.10)\n",
            "Requirement already satisfied: kiwisolver>=1.3.1 in /usr/local/lib/python3.10/dist-packages (from roboflow) (1.4.4)\n",
            "Requirement already satisfied: matplotlib in /usr/local/lib/python3.10/dist-packages (from roboflow) (3.7.1)\n",
            "Requirement already satisfied: numpy>=1.18.5 in /usr/local/lib/python3.10/dist-packages (from roboflow) (1.22.4)\n",
            "Requirement already satisfied: opencv-python>=4.1.2 in /usr/local/lib/python3.10/dist-packages (from roboflow) (4.7.0.72)\n",
            "Requirement already satisfied: Pillow>=7.1.2 in /usr/local/lib/python3.10/dist-packages (from roboflow) (8.4.0)\n",
            "Requirement already satisfied: pyparsing==2.4.7 in /usr/local/lib/python3.10/dist-packages (from roboflow) (2.4.7)\n",
            "Requirement already satisfied: python-dateutil in /usr/local/lib/python3.10/dist-packages (from roboflow) (2.8.2)\n",
            "Requirement already satisfied: python-dotenv in /usr/local/lib/python3.10/dist-packages (from roboflow) (1.0.0)\n",
            "Requirement already satisfied: requests in /usr/local/lib/python3.10/dist-packages (from roboflow) (2.27.1)\n",
            "Requirement already satisfied: six in /usr/local/lib/python3.10/dist-packages (from roboflow) (1.16.0)\n",
            "Requirement already satisfied: supervision in /usr/local/lib/python3.10/dist-packages (from roboflow) (0.12.0)\n",
            "Requirement already satisfied: urllib3>=1.26.6 in /usr/local/lib/python3.10/dist-packages (from roboflow) (1.26.16)\n",
            "Requirement already satisfied: wget in /usr/local/lib/python3.10/dist-packages (from roboflow) (3.2)\n",
            "Requirement already satisfied: tqdm>=4.41.0 in /usr/local/lib/python3.10/dist-packages (from roboflow) (4.65.0)\n",
            "Requirement already satisfied: PyYAML>=5.3.1 in /usr/local/lib/python3.10/dist-packages (from roboflow) (6.0.1)\n",
            "Requirement already satisfied: requests-toolbelt in /usr/local/lib/python3.10/dist-packages (from roboflow) (1.0.0)\n",
            "Requirement already satisfied: contourpy>=1.0.1 in /usr/local/lib/python3.10/dist-packages (from matplotlib->roboflow) (1.1.0)\n",
            "Requirement already satisfied: fonttools>=4.22.0 in /usr/local/lib/python3.10/dist-packages (from matplotlib->roboflow) (4.41.1)\n",
            "Requirement already satisfied: packaging>=20.0 in /usr/local/lib/python3.10/dist-packages (from matplotlib->roboflow) (23.1)\n",
            "Requirement already satisfied: charset-normalizer~=2.0.0 in /usr/local/lib/python3.10/dist-packages (from requests->roboflow) (2.0.12)\n",
            "Requirement already satisfied: opencv-python-headless<5.0.0.0,>=4.8.0.74 in /usr/local/lib/python3.10/dist-packages (from supervision->roboflow) (4.8.0.74)\n"
          ]
        }
      ]
    },
    {
      "cell_type": "code",
      "execution_count": 4,
      "metadata": {
        "id": "BQ8XhrXLNbxB"
      },
      "outputs": [],
      "source": [
        "import pandas as pd\n",
        "import re\n",
        "import cv2\n",
        "from roboflow import Roboflow\n",
        "import os\n",
        "import glob\n",
        "import tensorflow as tf\n",
        "from tensorflow import keras\n",
        "import numpy as np\n",
        "import matplotlib.pyplot as plt\n",
        "from tensorflow.keras.preprocessing.image import ImageDataGenerator"
      ]
    },
    {
      "cell_type": "code",
      "source": [
        "dataset = '/content/drive/MyDrive/Inteligência artificial/CBIS-DDSM'"
      ],
      "metadata": {
        "id": "5ni1suWtSGJ_"
      },
      "execution_count": 5,
      "outputs": []
    },
    {
      "cell_type": "markdown",
      "source": [
        "### Calcificações"
      ],
      "metadata": {
        "id": "WdjpgwSXzeS0"
      }
    },
    {
      "cell_type": "code",
      "source": [
        "# patient_id, abnormality type, calc type, pathology, image file path\n",
        "\n",
        "calc_case_description_train_set = pd.read_csv(dataset + '/csv/calc_case_description_train_set.csv',\n",
        "                                              header=0,\n",
        "                                              usecols=[\"patient_id\", \"abnormality type\", \"calc type\", \"pathology\", \"image file path\"])\n",
        "\n",
        "calc_case_description_test_set = pd.read_csv(dataset + '/csv/calc_case_description_test_set.csv',\n",
        "                                             header=0,\n",
        "                                             usecols=[\"patient_id\", \"abnormality type\", \"calc type\", \"pathology\", \"image file path\"])\n"
      ],
      "metadata": {
        "id": "k70UdyK7m5jG"
      },
      "execution_count": 6,
      "outputs": []
    },
    {
      "cell_type": "markdown",
      "source": [
        "### Massas"
      ],
      "metadata": {
        "id": "O_q8J5iRzkE2"
      }
    },
    {
      "cell_type": "code",
      "source": [
        "# patient_id, abnormality type, mass shape, pathology, image file path\n",
        "\n",
        "mass_case_description_train_set = pd.read_csv(dataset + '/csv/mass_case_description_train_set.csv',\n",
        "                                              header=0,\n",
        "                                              usecols=[\"patient_id\", \"abnormality type\", \"mass shape\", \"pathology\", \"image file path\"])\n",
        "\n",
        "mass_case_description_test_set = pd.read_csv(dataset + '/csv/mass_case_description_test_set.csv',\n",
        "                                                                                           header=0,\n",
        "                                              usecols=[\"patient_id\", \"abnormality type\", \"mass shape\", \"pathology\", \"image file path\"])\n"
      ],
      "metadata": {
        "id": "DmbIpkzUzptH"
      },
      "execution_count": 7,
      "outputs": []
    },
    {
      "cell_type": "code",
      "source": [
        "from PIL import Image\n",
        "\n",
        "def redimensionar_imagem(input_path, output_path, max_size):\n",
        "    # Abrir a imagem\n",
        "    image = Image.open(input_path)\n",
        "\n",
        "  #  largura e altura da imagem\n",
        "    width, height = 150, 150\n",
        "\n",
        "    resized_image = image.resize((width, height), Image.LANCZOS)\n",
        "\n",
        "    # # Verificar qual é o lado mais longo da imagem\n",
        "    # maior_lado = max(width, height)\n",
        "\n",
        "    # # Se o maior lado já for menor ou igual ao tamanho máximo, não é necessário redimensionar\n",
        "    # if maior_lado <= max_size:\n",
        "    #     image.save(output_path)\n",
        "    # else:\n",
        "    #     # Calcular a proporção para redimensionar a imagem mantendo a mesma proporção\n",
        "    #     ratio = max_size / maior_lado\n",
        "\n",
        "    #     # Redimensionar a imagem\n",
        "    #     new_width = int(width * ratio)\n",
        "    #     new_height = int(height * ratio)\n",
        "    #     resized_image = image.resize((new_width, new_height), Image.LANCZOS)\n",
        "\n",
        "    os.remove(input_path)\n",
        "    resized_image.save(output_path)"
      ],
      "metadata": {
        "id": "oKei01DXEnmA"
      },
      "execution_count": 7,
      "outputs": []
    },
    {
      "cell_type": "code",
      "source": [
        "def alterar_nome_da_pasta(nome):\n",
        "  teste = \"Mass-Test_P_00017_LEFT_CC/1.3.6.1.4.1.9590.100.1.2.289610447411344525237308079592285912683/1.3.6.1.4.1.9590.100.1.2.22131189612893294827907969600765582967/000000.dcm\"\n",
        "\n",
        "  padrao = r'.*?/.*?/(?P<string>.*?)/'\n",
        "  resultado = re.search(padrao, nome)\n",
        "\n",
        "  string_desejada = resultado.group('string')\n",
        "  string_desejada = dataset + '/jpeg/' + string_desejada\n",
        "  # print(string_desejada)\n",
        "\n",
        "  img = obter_nomes_imagens(string_desejada)\n",
        "\n",
        "  res = string_desejada + '/' + img[0]\n",
        "\n",
        "  # # Redimensionar imagem\n",
        "  # input_path = res\n",
        "  # output_path = res\n",
        "  # max_size = 400  # Tamanho máximo desejado\n",
        "  # redimensionar_imagem(input_path, output_path, max_size)\n",
        "\n",
        "  return res\n",
        "\n",
        "def obter_nomes_imagens(diretorio, extensoes=['*.jpg']):\n",
        "    caminho_completo = os.path.join(diretorio, '*')\n",
        "    nomes_imagens = []\n",
        "\n",
        "    for extensao in extensoes:\n",
        "        caminho_imagens = os.path.join(diretorio, extensao)\n",
        "        nomes_imagens.extend(glob.glob(caminho_imagens))\n",
        "\n",
        "    nomes_imagens = [os.path.basename(imagem) for imagem in nomes_imagens]\n",
        "    return nomes_imagens\n"
      ],
      "metadata": {
        "id": "tG4VJ9SslqkE"
      },
      "execution_count": 8,
      "outputs": []
    },
    {
      "cell_type": "code",
      "source": [
        "print(mass_case_description_train_set.head())\n",
        "print(mass_case_description_train_set.describe())\n",
        "print(mass_case_description_train_set['pathology'].value_counts())\n",
        "print(mass_case_description_train_set['image file path'])"
      ],
      "metadata": {
        "id": "Cq82ZvEDl8Cq"
      },
      "execution_count": null,
      "outputs": []
    },
    {
      "cell_type": "markdown",
      "source": [
        "### Alterando o caminho das pastas"
      ],
      "metadata": {
        "id": "zcWnczQTnDCG"
      }
    },
    {
      "cell_type": "code",
      "source": [
        "calc_case_description_train_set['image file path'] = calc_case_description_train_set['image file path'].apply(alterar_nome_da_pasta)\n",
        "\n",
        "calc_case_description_test_set['image file path'] = calc_case_description_test_set['image file path'].apply(alterar_nome_da_pasta)\n",
        "\n",
        "mass_case_description_train_set['image file path'] = mass_case_description_train_set['image file path'].apply(alterar_nome_da_pasta)\n",
        "\n",
        "mass_case_description_test_set['image file path'] = mass_case_description_test_set['image file path'].apply(alterar_nome_da_pasta)\n"
      ],
      "metadata": {
        "id": "W7P1yX7l3TCi"
      },
      "execution_count": 9,
      "outputs": []
    },
    {
      "cell_type": "code",
      "source": [
        "print(mass_case_description_train_set['image file path'])"
      ],
      "metadata": {
        "id": "DJiQOhIWl-6R"
      },
      "execution_count": null,
      "outputs": []
    },
    {
      "cell_type": "markdown",
      "source": [
        "### Cria o ROI"
      ],
      "metadata": {
        "id": "ojb4BUZot8_k"
      }
    },
    {
      "cell_type": "code",
      "source": [
        "\n",
        "def cortar_imagem(nome_pasta):\n",
        "    rf = Roboflow(api_key=\"CEfThkqYjDhVzpzg2wJO\")\n",
        "    project = rf.workspace().project(\"breast-cancer-roi-n4ssp\")\n",
        "    model = project.version(1).model\n",
        "\n",
        "    nome_pasta = dataset + '/jpeg/' + nome_pasta\n",
        "    nomes_imagens = obter_nomes_imagens(nome_pasta)\n",
        "\n",
        "    prediction = model.predict(nome_pasta + '/' + nomes_imagens[0], confidence=50, overlap=50).json()\n",
        "    prediction_list = prediction[\"predictions\"]\n",
        "    prediction_dict = prediction_list[0]\n",
        "\n",
        "    roi_x = int(prediction_dict['x'] - prediction_dict['width'] / 2)\n",
        "    roi_y = int(prediction_dict['y'] - prediction_dict['height'] / 2)\n",
        "    roi_width = int(prediction_dict['width'])\n",
        "    roi_height = int(prediction_dict['height'])\n",
        "\n",
        "    image = cv2.imread(nome_pasta + '/' + nomes_imagens[0])\n",
        "\n",
        "    roi = image[roi_y:roi_y+roi_height, roi_x:roi_x+roi_width]\n",
        "\n",
        "    cv2.imwrite(nome_pasta + \"/roi_\" + nomes_imagens[0], roi)\n",
        "\n",
        "# cortar_imagem(nome_pasta)"
      ],
      "metadata": {
        "id": "cKx_GB-zx64O"
      },
      "execution_count": null,
      "outputs": []
    },
    {
      "cell_type": "code",
      "source": [
        "print(calc_case_description_train_set.head())\n",
        "print(mass_case_description_train_set.head())"
      ],
      "metadata": {
        "id": "lvpfKxI4a0_I"
      },
      "execution_count": null,
      "outputs": []
    },
    {
      "cell_type": "code",
      "source": [
        "# CNN\n",
        "\n",
        "# train calc type\n",
        "train_calc = calc_case_description_train_set.drop('calc type', axis=1)\n",
        "# train mass shape\n",
        "train_mass = mass_case_description_train_set.drop('mass shape', axis=1)\n",
        "# test calc type\n",
        "test_calc = calc_case_description_test_set.drop('calc type', axis=1)\n",
        "# train mass shape\n",
        "test_mass = mass_case_description_test_set.drop('mass shape', axis=1)\n",
        "\n",
        "train = pd.concat([train_calc, train_mass ], axis=0)\n",
        "test = pd.concat([test_calc, test_mass ], axis=0)\n",
        "\n",
        "# Reinicializar os índices do DataFrame resultante\n",
        "train.reset_index(drop=True, inplace=True)\n",
        "test.reset_index(drop=True, inplace=True)\n",
        "\n",
        "# Excluir os valores NaN da coluna 'image file path'\n",
        "train = train.dropna(subset=['image file path'])\n",
        "test = test.dropna(subset=['image file path'])\n",
        "\n",
        "# convertendo para string\n",
        "train['image file path'] = train['image file path'].astype(str)\n",
        "test['image file path'] = test['image file path'].astype(str)"
      ],
      "metadata": {
        "id": "kn6JbBUe1Sl8"
      },
      "execution_count": 10,
      "outputs": []
    },
    {
      "cell_type": "code",
      "source": [
        "print(train['abnormality type'].value_counts())\n",
        "print(train.shape[0])\n",
        "print(train['image file path'][0])\n",
        "train['abnormality type']"
      ],
      "metadata": {
        "id": "cG-FLksk1Vwr"
      },
      "execution_count": null,
      "outputs": []
    },
    {
      "cell_type": "code",
      "source": [
        "# Salvando o DataFrame em um arquivo CSV\n",
        "train.to_csv('./new_train.csv', index=False)"
      ],
      "metadata": {
        "id": "yXU5n2rl2QWG"
      },
      "execution_count": 11,
      "outputs": []
    },
    {
      "cell_type": "code",
      "source": [
        "# img_width, img_height = 2936, 4216\n",
        "img_width, img_height = 150, 150\n",
        "\n",
        "class_names = ['calcification', 'mass']\n",
        "\n",
        "# Tamanho do lote de treinamento\n",
        "batch_size = 32\n",
        "# Caminho para o diretório raiz das imagens\n",
        "nome_pasta_root = dataset + '/jpeg/'\n",
        "\n",
        "# ImageDataGenerator para pré-processar as imagens\n",
        "train_datagen = ImageDataGenerator(\n",
        "    rescale=1.0/255,  # Normaliza os valores dos pixels para o intervalo [0, 1]\n",
        "    shear_range=0.2,\n",
        "    zoom_range=0.2,\n",
        "    horizontal_flip=True\n",
        ")\n",
        "\n",
        "test_generator = train_datagen.flow_from_dataframe(\n",
        "    test,\n",
        "    x_col='image file path',\n",
        "    y_col='abnormality type',  # Coluna que contém os rótulos das categorias (mass ou calcification)\n",
        "    target_size=(img_width, img_height),\n",
        "    batch_size=batch_size,\n",
        "    class_mode='binary',  # Classificação binária\n",
        "    classes=['mass', 'calcification'],  # Nomes das classes\n",
        "    directory=nome_pasta_root\n",
        ")\n",
        "\n",
        "train_generator = train_datagen.flow_from_dataframe(\n",
        "    train,\n",
        "    x_col='image file path',\n",
        "    y_col='abnormality type',  # Coluna que contém os rótulos das categorias (mass ou calcification)\n",
        "    target_size=(img_width, img_height),\n",
        "    batch_size=batch_size,\n",
        "    class_mode='binary',  # Classificação binária\n",
        "    classes=['mass', 'calcification'],  # Nomes das classes\n",
        "    directory=nome_pasta_root\n",
        ")\n",
        "\n",
        "# Montar as camadas do modelo\n",
        "model = keras.Sequential([\n",
        "    keras.layers.Flatten(input_shape=(img_width, img_height, 3)),\n",
        "    keras.layers.Dense(128, activation='relu'),\n",
        "    keras.layers.Dense(1, activation='sigmoid') # Camada de saída com ativação sigmóide para classificação binária\n",
        "])\n",
        "\n",
        "# Compilar o modelo\n",
        "model.compile(optimizer='adam',\n",
        "              loss='binary_crossentropy',\n",
        "              metrics=['accuracy'])\n",
        "\n",
        "\n",
        "epochs = 15  # Número de épocas de treinamento\n",
        "\n",
        "model.fit(\n",
        "    train_generator,\n",
        "    validation_data=test_generator,\n",
        "    steps_per_epoch=train_generator.samples // batch_size,\n",
        "    epochs=epochs\n",
        ")\n"
      ],
      "metadata": {
        "id": "gjyhIujlD60q",
        "colab": {
          "base_uri": "https://localhost:8080/"
        },
        "outputId": "08a2a73a-aa7d-4862-86ce-ca13e2fe617b"
      },
      "execution_count": null,
      "outputs": [
        {
          "output_type": "stream",
          "name": "stdout",
          "text": [
            "Found 704 validated image filenames belonging to 2 classes.\n",
            "Found 2864 validated image filenames belonging to 2 classes.\n",
            "Epoch 1/15\n",
            "89/89 [==============================] - 54s 602ms/step - loss: 2.7869 - accuracy: 0.5007 - val_loss: 1.2263 - val_accuracy: 0.5000\n",
            "Epoch 2/15\n",
            "89/89 [==============================] - 42s 471ms/step - loss: 1.0802 - accuracy: 0.5328 - val_loss: 1.3847 - val_accuracy: 0.5028\n",
            "Epoch 3/15\n",
            "89/89 [==============================] - 44s 498ms/step - loss: 1.0196 - accuracy: 0.5173 - val_loss: 1.1954 - val_accuracy: 0.4943\n",
            "Epoch 4/15\n",
            "89/89 [==============================] - 40s 452ms/step - loss: 1.0522 - accuracy: 0.5180 - val_loss: 0.9808 - val_accuracy: 0.4744\n",
            "Epoch 5/15\n",
            "89/89 [==============================] - 39s 440ms/step - loss: 0.9957 - accuracy: 0.5403 - val_loss: 0.8459 - val_accuracy: 0.4872\n",
            "Epoch 6/15\n",
            "89/89 [==============================] - 40s 449ms/step - loss: 0.8797 - accuracy: 0.5307 - val_loss: 1.1306 - val_accuracy: 0.4659\n",
            "Epoch 7/15\n",
            "89/89 [==============================] - 41s 457ms/step - loss: 0.8472 - accuracy: 0.5293 - val_loss: 1.5593 - val_accuracy: 0.4631\n",
            "Epoch 8/15\n",
            "89/89 [==============================] - 44s 497ms/step - loss: 0.9666 - accuracy: 0.5311 - val_loss: 0.7387 - val_accuracy: 0.4872\n",
            "Epoch 9/15\n",
            "89/89 [==============================] - 41s 456ms/step - loss: 0.7019 - accuracy: 0.5420 - val_loss: 0.6868 - val_accuracy: 0.4901\n",
            "Epoch 10/15\n",
            "89/89 [==============================] - 44s 499ms/step - loss: 0.6911 - accuracy: 0.5526 - val_loss: 0.7159 - val_accuracy: 0.4787\n"
          ]
        }
      ]
    },
    {
      "cell_type": "code",
      "source": [
        "  # salvar model\n",
        "  model.save(\"/content/drive/MyDrive/Inteligência artificial/saved_models/model.h5\")\n",
        "\n",
        "  results = model.evaluate(test_generator)"
      ],
      "metadata": {
        "colab": {
          "base_uri": "https://localhost:8080/"
        },
        "id": "Do6b_D-wUYUi",
        "outputId": "29d8f0a3-9948-48a9-df75-41ddb391acf0"
      },
      "execution_count": 18,
      "outputs": [
        {
          "output_type": "stream",
          "name": "stdout",
          "text": [
            "22/22 [==============================] - 7s 322ms/step - loss: 0.7067 - accuracy: 0.5099\n"
          ]
        }
      ]
    },
    {
      "cell_type": "code",
      "source": [
        "# Accuracy\n",
        "from sklearn import metrics\n",
        "saved_model = keras.models.load_model(\"/content/drive/MyDrive/Inteligência artificial/saved_models/model.h5\")\n",
        "\n",
        "predict = saved_model.predict(test_generator)\n",
        "y_pred = np.argmax(predict, axis=1)\n",
        "y_test = test_generator.classes\n",
        "\n",
        "print(\"y_test\", y_test)\n",
        "print(\"y_pred\", y_pred)\n",
        "\n",
        "print(\"Accuracy\", metrics.accuracy_score(y_test, y_pred))\n"
      ],
      "metadata": {
        "colab": {
          "base_uri": "https://localhost:8080/"
        },
        "id": "0ZbJ3NrTDcJ6",
        "outputId": "11de9ed0-b2c1-4db9-bf5c-2f5e636555ff"
      },
      "execution_count": 19,
      "outputs": [
        {
          "output_type": "stream",
          "name": "stdout",
          "text": [
            "22/22 [==============================] - 7s 328ms/step\n",
            "y_test [1, 1, 1, 1, 1, 1, 1, 1, 1, 1, 1, 1, 1, 1, 1, 1, 1, 1, 1, 1, 1, 1, 1, 1, 1, 1, 1, 1, 1, 1, 1, 1, 1, 1, 1, 1, 1, 1, 1, 1, 1, 1, 1, 1, 1, 1, 1, 1, 1, 1, 1, 1, 1, 1, 1, 1, 1, 1, 1, 1, 1, 1, 1, 1, 1, 1, 1, 1, 1, 1, 1, 1, 1, 1, 1, 1, 1, 1, 1, 1, 1, 1, 1, 1, 1, 1, 1, 1, 1, 1, 1, 1, 1, 1, 1, 1, 1, 1, 1, 1, 1, 1, 1, 1, 1, 1, 1, 1, 1, 1, 1, 1, 1, 1, 1, 1, 1, 1, 1, 1, 1, 1, 1, 1, 1, 1, 1, 1, 1, 1, 1, 1, 1, 1, 1, 1, 1, 1, 1, 1, 1, 1, 1, 1, 1, 1, 1, 1, 1, 1, 1, 1, 1, 1, 1, 1, 1, 1, 1, 1, 1, 1, 1, 1, 1, 1, 1, 1, 1, 1, 1, 1, 1, 1, 1, 1, 1, 1, 1, 1, 1, 1, 1, 1, 1, 1, 1, 1, 1, 1, 1, 1, 1, 1, 1, 1, 1, 1, 1, 1, 1, 1, 1, 1, 1, 1, 1, 1, 1, 1, 1, 1, 1, 1, 1, 1, 1, 1, 1, 1, 1, 1, 1, 1, 1, 1, 1, 1, 1, 1, 1, 1, 1, 1, 1, 1, 1, 1, 1, 1, 1, 1, 1, 1, 1, 1, 1, 1, 1, 1, 1, 1, 1, 1, 1, 1, 1, 1, 1, 1, 1, 1, 1, 1, 1, 1, 1, 1, 1, 1, 1, 1, 1, 1, 1, 1, 1, 1, 1, 1, 1, 1, 1, 1, 1, 1, 1, 1, 1, 1, 1, 1, 1, 1, 1, 1, 1, 1, 1, 1, 1, 1, 1, 1, 1, 1, 1, 1, 1, 1, 1, 1, 1, 1, 1, 1, 1, 1, 1, 1, 1, 1, 1, 1, 1, 1, 0, 0, 0, 0, 0, 0, 0, 0, 0, 0, 0, 0, 0, 0, 0, 0, 0, 0, 0, 0, 0, 0, 0, 0, 0, 0, 0, 0, 0, 0, 0, 0, 0, 0, 0, 0, 0, 0, 0, 0, 0, 0, 0, 0, 0, 0, 0, 0, 0, 0, 0, 0, 0, 0, 0, 0, 0, 0, 0, 0, 0, 0, 0, 0, 0, 0, 0, 0, 0, 0, 0, 0, 0, 0, 0, 0, 0, 0, 0, 0, 0, 0, 0, 0, 0, 0, 0, 0, 0, 0, 0, 0, 0, 0, 0, 0, 0, 0, 0, 0, 0, 0, 0, 0, 0, 0, 0, 0, 0, 0, 0, 0, 0, 0, 0, 0, 0, 0, 0, 0, 0, 0, 0, 0, 0, 0, 0, 0, 0, 0, 0, 0, 0, 0, 0, 0, 0, 0, 0, 0, 0, 0, 0, 0, 0, 0, 0, 0, 0, 0, 0, 0, 0, 0, 0, 0, 0, 0, 0, 0, 0, 0, 0, 0, 0, 0, 0, 0, 0, 0, 0, 0, 0, 0, 0, 0, 0, 0, 0, 0, 0, 0, 0, 0, 0, 0, 0, 0, 0, 0, 0, 0, 0, 0, 0, 0, 0, 0, 0, 0, 0, 0, 0, 0, 0, 0, 0, 0, 0, 0, 0, 0, 0, 0, 0, 0, 0, 0, 0, 0, 0, 0, 0, 0, 0, 0, 0, 0, 0, 0, 0, 0, 0, 0, 0, 0, 0, 0, 0, 0, 0, 0, 0, 0, 0, 0, 0, 0, 0, 0, 0, 0, 0, 0, 0, 0, 0, 0, 0, 0, 0, 0, 0, 0, 0, 0, 0, 0, 0, 0, 0, 0, 0, 0, 0, 0, 0, 0, 0, 0, 0, 0, 0, 0, 0, 0, 0, 0, 0, 0, 0, 0, 0, 0, 0, 0, 0, 0, 0, 0, 0, 0, 0, 0, 0, 0, 0, 0, 0, 0, 0, 0, 0, 0, 0, 0, 0, 0, 0, 0, 0, 0, 0, 0, 0, 0, 0, 0, 0, 0, 0, 0, 0, 0, 0, 0, 0, 0, 0, 0, 0, 0, 0, 0, 0, 0, 0, 0, 0, 0, 0, 0, 0, 0, 0, 0, 0, 0, 0, 0, 0, 0, 0, 0, 0, 0, 0, 0, 0, 0, 0, 0, 0, 0, 0, 0, 0, 0]\n",
            "y_pred [0 0 0 0 0 0 0 0 0 0 0 0 0 0 0 0 0 0 0 0 0 0 0 0 0 0 0 0 0 0 0 0 0 0 0 0 0\n",
            " 0 0 0 0 0 0 0 0 0 0 0 0 0 0 0 0 0 0 0 0 0 0 0 0 0 0 0 0 0 0 0 0 0 0 0 0 0\n",
            " 0 0 0 0 0 0 0 0 0 0 0 0 0 0 0 0 0 0 0 0 0 0 0 0 0 0 0 0 0 0 0 0 0 0 0 0 0\n",
            " 0 0 0 0 0 0 0 0 0 0 0 0 0 0 0 0 0 0 0 0 0 0 0 0 0 0 0 0 0 0 0 0 0 0 0 0 0\n",
            " 0 0 0 0 0 0 0 0 0 0 0 0 0 0 0 0 0 0 0 0 0 0 0 0 0 0 0 0 0 0 0 0 0 0 0 0 0\n",
            " 0 0 0 0 0 0 0 0 0 0 0 0 0 0 0 0 0 0 0 0 0 0 0 0 0 0 0 0 0 0 0 0 0 0 0 0 0\n",
            " 0 0 0 0 0 0 0 0 0 0 0 0 0 0 0 0 0 0 0 0 0 0 0 0 0 0 0 0 0 0 0 0 0 0 0 0 0\n",
            " 0 0 0 0 0 0 0 0 0 0 0 0 0 0 0 0 0 0 0 0 0 0 0 0 0 0 0 0 0 0 0 0 0 0 0 0 0\n",
            " 0 0 0 0 0 0 0 0 0 0 0 0 0 0 0 0 0 0 0 0 0 0 0 0 0 0 0 0 0 0 0 0 0 0 0 0 0\n",
            " 0 0 0 0 0 0 0 0 0 0 0 0 0 0 0 0 0 0 0 0 0 0 0 0 0 0 0 0 0 0 0 0 0 0 0 0 0\n",
            " 0 0 0 0 0 0 0 0 0 0 0 0 0 0 0 0 0 0 0 0 0 0 0 0 0 0 0 0 0 0 0 0 0 0 0 0 0\n",
            " 0 0 0 0 0 0 0 0 0 0 0 0 0 0 0 0 0 0 0 0 0 0 0 0 0 0 0 0 0 0 0 0 0 0 0 0 0\n",
            " 0 0 0 0 0 0 0 0 0 0 0 0 0 0 0 0 0 0 0 0 0 0 0 0 0 0 0 0 0 0 0 0 0 0 0 0 0\n",
            " 0 0 0 0 0 0 0 0 0 0 0 0 0 0 0 0 0 0 0 0 0 0 0 0 0 0 0 0 0 0 0 0 0 0 0 0 0\n",
            " 0 0 0 0 0 0 0 0 0 0 0 0 0 0 0 0 0 0 0 0 0 0 0 0 0 0 0 0 0 0 0 0 0 0 0 0 0\n",
            " 0 0 0 0 0 0 0 0 0 0 0 0 0 0 0 0 0 0 0 0 0 0 0 0 0 0 0 0 0 0 0 0 0 0 0 0 0\n",
            " 0 0 0 0 0 0 0 0 0 0 0 0 0 0 0 0 0 0 0 0 0 0 0 0 0 0 0 0 0 0 0 0 0 0 0 0 0\n",
            " 0 0 0 0 0 0 0 0 0 0 0 0 0 0 0 0 0 0 0 0 0 0 0 0 0 0 0 0 0 0 0 0 0 0 0 0 0\n",
            " 0 0 0 0 0 0 0 0 0 0 0 0 0 0 0 0 0 0 0 0 0 0 0 0 0 0 0 0 0 0 0 0 0 0 0 0 0\n",
            " 0]\n",
            "Accuracy 0.5369318181818182\n"
          ]
        }
      ]
    },
    {
      "cell_type": "code",
      "source": [
        "# matriz de confusão\n",
        "from sklearn.metrics import confusion_matrix\n",
        "pd.DataFrame(confusion_matrix(y_test, y_pred),\n",
        "             index=['mass', 'calcification'], columns=['mass', 'calcification'])\n"
      ],
      "metadata": {
        "colab": {
          "base_uri": "https://localhost:8080/",
          "height": 112
        },
        "id": "QYHYq1LkME3C",
        "outputId": "9ee65b26-0403-4977-b249-cfd7438ed022"
      },
      "execution_count": 24,
      "outputs": [
        {
          "output_type": "execute_result",
          "data": {
            "text/plain": [
              "     1  0\n",
              "1  378  0\n",
              "0  326  0"
            ],
            "text/html": [
              "\n",
              "\n",
              "  <div id=\"df-398da69c-ab46-46a0-9e96-08f988d7087e\">\n",
              "    <div class=\"colab-df-container\">\n",
              "      <div>\n",
              "<style scoped>\n",
              "    .dataframe tbody tr th:only-of-type {\n",
              "        vertical-align: middle;\n",
              "    }\n",
              "\n",
              "    .dataframe tbody tr th {\n",
              "        vertical-align: top;\n",
              "    }\n",
              "\n",
              "    .dataframe thead th {\n",
              "        text-align: right;\n",
              "    }\n",
              "</style>\n",
              "<table border=\"1\" class=\"dataframe\">\n",
              "  <thead>\n",
              "    <tr style=\"text-align: right;\">\n",
              "      <th></th>\n",
              "      <th>1</th>\n",
              "      <th>0</th>\n",
              "    </tr>\n",
              "  </thead>\n",
              "  <tbody>\n",
              "    <tr>\n",
              "      <th>1</th>\n",
              "      <td>378</td>\n",
              "      <td>0</td>\n",
              "    </tr>\n",
              "    <tr>\n",
              "      <th>0</th>\n",
              "      <td>326</td>\n",
              "      <td>0</td>\n",
              "    </tr>\n",
              "  </tbody>\n",
              "</table>\n",
              "</div>\n",
              "      <button class=\"colab-df-convert\" onclick=\"convertToInteractive('df-398da69c-ab46-46a0-9e96-08f988d7087e')\"\n",
              "              title=\"Convert this dataframe to an interactive table.\"\n",
              "              style=\"display:none;\">\n",
              "\n",
              "  <svg xmlns=\"http://www.w3.org/2000/svg\" height=\"24px\"viewBox=\"0 0 24 24\"\n",
              "       width=\"24px\">\n",
              "    <path d=\"M0 0h24v24H0V0z\" fill=\"none\"/>\n",
              "    <path d=\"M18.56 5.44l.94 2.06.94-2.06 2.06-.94-2.06-.94-.94-2.06-.94 2.06-2.06.94zm-11 1L8.5 8.5l.94-2.06 2.06-.94-2.06-.94L8.5 2.5l-.94 2.06-2.06.94zm10 10l.94 2.06.94-2.06 2.06-.94-2.06-.94-.94-2.06-.94 2.06-2.06.94z\"/><path d=\"M17.41 7.96l-1.37-1.37c-.4-.4-.92-.59-1.43-.59-.52 0-1.04.2-1.43.59L10.3 9.45l-7.72 7.72c-.78.78-.78 2.05 0 2.83L4 21.41c.39.39.9.59 1.41.59.51 0 1.02-.2 1.41-.59l7.78-7.78 2.81-2.81c.8-.78.8-2.07 0-2.86zM5.41 20L4 18.59l7.72-7.72 1.47 1.35L5.41 20z\"/>\n",
              "  </svg>\n",
              "      </button>\n",
              "\n",
              "\n",
              "\n",
              "    <div id=\"df-cd5650ae-fce8-4133-b203-f18918ae6ef2\">\n",
              "      <button class=\"colab-df-quickchart\" onclick=\"quickchart('df-cd5650ae-fce8-4133-b203-f18918ae6ef2')\"\n",
              "              title=\"Suggest charts.\"\n",
              "              style=\"display:none;\">\n",
              "\n",
              "<svg xmlns=\"http://www.w3.org/2000/svg\" height=\"24px\"viewBox=\"0 0 24 24\"\n",
              "     width=\"24px\">\n",
              "    <g>\n",
              "        <path d=\"M19 3H5c-1.1 0-2 .9-2 2v14c0 1.1.9 2 2 2h14c1.1 0 2-.9 2-2V5c0-1.1-.9-2-2-2zM9 17H7v-7h2v7zm4 0h-2V7h2v10zm4 0h-2v-4h2v4z\"/>\n",
              "    </g>\n",
              "</svg>\n",
              "      </button>\n",
              "    </div>\n",
              "\n",
              "<style>\n",
              "  .colab-df-quickchart {\n",
              "    background-color: #E8F0FE;\n",
              "    border: none;\n",
              "    border-radius: 50%;\n",
              "    cursor: pointer;\n",
              "    display: none;\n",
              "    fill: #1967D2;\n",
              "    height: 32px;\n",
              "    padding: 0 0 0 0;\n",
              "    width: 32px;\n",
              "  }\n",
              "\n",
              "  .colab-df-quickchart:hover {\n",
              "    background-color: #E2EBFA;\n",
              "    box-shadow: 0px 1px 2px rgba(60, 64, 67, 0.3), 0px 1px 3px 1px rgba(60, 64, 67, 0.15);\n",
              "    fill: #174EA6;\n",
              "  }\n",
              "\n",
              "  [theme=dark] .colab-df-quickchart {\n",
              "    background-color: #3B4455;\n",
              "    fill: #D2E3FC;\n",
              "  }\n",
              "\n",
              "  [theme=dark] .colab-df-quickchart:hover {\n",
              "    background-color: #434B5C;\n",
              "    box-shadow: 0px 1px 3px 1px rgba(0, 0, 0, 0.15);\n",
              "    filter: drop-shadow(0px 1px 2px rgba(0, 0, 0, 0.3));\n",
              "    fill: #FFFFFF;\n",
              "  }\n",
              "</style>\n",
              "\n",
              "    <script>\n",
              "      async function quickchart(key) {\n",
              "        const containerElement = document.querySelector('#' + key);\n",
              "        const charts = await google.colab.kernel.invokeFunction(\n",
              "            'suggestCharts', [key], {});\n",
              "      }\n",
              "    </script>\n",
              "\n",
              "      <script>\n",
              "\n",
              "function displayQuickchartButton(domScope) {\n",
              "  let quickchartButtonEl =\n",
              "    domScope.querySelector('#df-cd5650ae-fce8-4133-b203-f18918ae6ef2 button.colab-df-quickchart');\n",
              "  quickchartButtonEl.style.display =\n",
              "    google.colab.kernel.accessAllowed ? 'block' : 'none';\n",
              "}\n",
              "\n",
              "        displayQuickchartButton(document);\n",
              "      </script>\n",
              "      <style>\n",
              "    .colab-df-container {\n",
              "      display:flex;\n",
              "      flex-wrap:wrap;\n",
              "      gap: 12px;\n",
              "    }\n",
              "\n",
              "    .colab-df-convert {\n",
              "      background-color: #E8F0FE;\n",
              "      border: none;\n",
              "      border-radius: 50%;\n",
              "      cursor: pointer;\n",
              "      display: none;\n",
              "      fill: #1967D2;\n",
              "      height: 32px;\n",
              "      padding: 0 0 0 0;\n",
              "      width: 32px;\n",
              "    }\n",
              "\n",
              "    .colab-df-convert:hover {\n",
              "      background-color: #E2EBFA;\n",
              "      box-shadow: 0px 1px 2px rgba(60, 64, 67, 0.3), 0px 1px 3px 1px rgba(60, 64, 67, 0.15);\n",
              "      fill: #174EA6;\n",
              "    }\n",
              "\n",
              "    [theme=dark] .colab-df-convert {\n",
              "      background-color: #3B4455;\n",
              "      fill: #D2E3FC;\n",
              "    }\n",
              "\n",
              "    [theme=dark] .colab-df-convert:hover {\n",
              "      background-color: #434B5C;\n",
              "      box-shadow: 0px 1px 3px 1px rgba(0, 0, 0, 0.15);\n",
              "      filter: drop-shadow(0px 1px 2px rgba(0, 0, 0, 0.3));\n",
              "      fill: #FFFFFF;\n",
              "    }\n",
              "  </style>\n",
              "\n",
              "      <script>\n",
              "        const buttonEl =\n",
              "          document.querySelector('#df-398da69c-ab46-46a0-9e96-08f988d7087e button.colab-df-convert');\n",
              "        buttonEl.style.display =\n",
              "          google.colab.kernel.accessAllowed ? 'block' : 'none';\n",
              "\n",
              "        async function convertToInteractive(key) {\n",
              "          const element = document.querySelector('#df-398da69c-ab46-46a0-9e96-08f988d7087e');\n",
              "          const dataTable =\n",
              "            await google.colab.kernel.invokeFunction('convertToInteractive',\n",
              "                                                     [key], {});\n",
              "          if (!dataTable) return;\n",
              "\n",
              "          const docLinkHtml = 'Like what you see? Visit the ' +\n",
              "            '<a target=\"_blank\" href=https://colab.research.google.com/notebooks/data_table.ipynb>data table notebook</a>'\n",
              "            + ' to learn more about interactive tables.';\n",
              "          element.innerHTML = '';\n",
              "          dataTable['output_type'] = 'display_data';\n",
              "          await google.colab.output.renderOutput(dataTable, element);\n",
              "          const docLink = document.createElement('div');\n",
              "          docLink.innerHTML = docLinkHtml;\n",
              "          element.appendChild(docLink);\n",
              "        }\n",
              "      </script>\n",
              "    </div>\n",
              "  </div>\n"
            ]
          },
          "metadata": {},
          "execution_count": 24
        }
      ]
    },
    {
      "cell_type": "code",
      "source": [
        "print(train.head())\n",
        "\n",
        "print(train['abnormality type'].value_counts())\n",
        "\n",
        "print(train['image file path'].value_counts())\n",
        "\n",
        "print(test.head())\n",
        "\n",
        "print(type(train['abnormality type'].value_counts()))\n",
        "\n",
        "print(train['abnormality type'].value_counts())\n",
        "\n",
        "print(test['abnormality type'].value_counts())\n",
        "\n",
        "print(type(train['image file path']))"
      ],
      "metadata": {
        "id": "gphLJuVWGb-V"
      },
      "execution_count": null,
      "outputs": []
    }
  ]
}