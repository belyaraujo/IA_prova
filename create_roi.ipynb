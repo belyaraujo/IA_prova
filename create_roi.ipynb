{
  "nbformat": 4,
  "nbformat_minor": 0,
  "metadata": {
    "colab": {
      "provenance": []
    },
    "kernelspec": {
      "name": "python3",
      "display_name": "Python 3"
    },
    "language_info": {
      "name": "python"
    }
  },
  "cells": [
    {
      "cell_type": "code",
      "source": [
        "pip install roboflow"
      ],
      "metadata": {
        "id": "bkdNRm4nrKDG"
      },
      "execution_count": null,
      "outputs": []
    },
    {
      "cell_type": "code",
      "source": [
        "import cv2"
      ],
      "metadata": {
        "id": "KfmnFMMA_G7V"
      },
      "execution_count": 15,
      "outputs": []
    },
    {
      "cell_type": "code",
      "execution_count": null,
      "metadata": {
        "id": "c8SU_-4Nk8RB"
      },
      "outputs": [],
      "source": [
        "# https://universe.roboflow.com/kaggling/breast-cancer-roi-n4ssp/model/1\n",
        "# https://blog.roboflow.com/how-to-crop-computer-vision-model-predictions/\n"
      ]
    },
    {
      "cell_type": "code",
      "source": [
        "from roboflow import Roboflow\n",
        "rf = Roboflow(api_key=\"CEfThkqYjDhVzpzg2wJO\")\n",
        "project = rf.workspace().project(\"breast-cancer-roi-n4ssp\")\n",
        "model = project.version(1).model\n",
        "\n",
        "print(model.predict(\"/content/1-126.jpg\", confidence=50, overlap=50).json())\n",
        "\n",
        "prediction = model.predict(\"/content/1-126.jpg\", confidence=50, overlap=50).json()\n",
        "prediction_list = prediction[\"predictions\"]\n",
        "prediction_dict = prediction_list[0]\n",
        "\n",
        "#print(type(prediction_list[0]))\n",
        "\n",
        "roi_x = int(prediction_dict['x'] - prediction_dict['width'] / 2)\n",
        "roi_y = int(prediction_dict['y'] - prediction_dict['height'] / 2)\n",
        "roi_width = int(prediction_dict['width'])\n",
        "roi_height = int(prediction_dict['height'])\n",
        "\n",
        "image = cv2.imread(\"/content/1-126.jpg\")\n",
        "\n",
        "roi = image[roi_y:roi_y+roi_height, roi_x:roi_x+roi_width]\n",
        "print(roi)\n",
        "\n",
        "cv2.imwrite(\"roi.jpeg\", roi)\n",
        "\n",
        "# visualizar o prediction\n",
        "# model.predict(\"/content/1-126.jpg\", confidence=50, overlap=50).save(\"prediction.jpg\")"
      ],
      "metadata": {
        "id": "kyk9MiCj7EBp"
      },
      "execution_count": null,
      "outputs": []
    }
  ]
}