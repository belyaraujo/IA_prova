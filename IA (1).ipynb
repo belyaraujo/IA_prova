{
  "nbformat": 4,
  "nbformat_minor": 0,
  "metadata": {
    "colab": {
      "provenance": []
    },
    "kernelspec": {
      "name": "python3",
      "display_name": "Python 3"
    },
    "language_info": {
      "name": "python"
    }
  },
  "cells": [
    {
      "cell_type": "code",
      "execution_count": null,
      "metadata": {
        "id": "DRb9HghkMUwW"
      },
      "outputs": [],
      "source": [
        "pip install roboflow"
      ]
    },
    {
      "cell_type": "code",
      "source": [
        "import cv2"
      ],
      "metadata": {
        "id": "jbpFPFRRM-wZ"
      },
      "execution_count": null,
      "outputs": []
    },
    {
      "cell_type": "code",
      "source": [
        "from roboflow import Roboflow\n",
        "rf = Roboflow(api_key=\"CEfThkqYjDhVzpzg2wJO\")\n",
        "project = rf.workspace().project(\"breast-cancer-roi-n4ssp\")\n",
        "model = project.version(1).model\n",
        "\n",
        "print(model.predict(\"/content/drive/MyDrive/1-018.jpg\", confidence=50, overlap=50).json())\n",
        "\n",
        "prediction = model.predict(\"/content/drive/MyDrive/1-018.jpg\", confidence=50, overlap=50).json()\n",
        "prediction_list = prediction[\"predictions\"]\n",
        "prediction_dict = prediction_list[0]\n",
        "\n",
        "#print(type(prediction_list[0]))\n",
        "\n",
        "roi_x = int(prediction_dict['x'] - prediction_dict['width'] / 2)\n",
        "roi_y = int(prediction_dict['y'] - prediction_dict['height'] / 2)\n",
        "roi_width = int(prediction_dict['width'])\n",
        "roi_height = int(prediction_dict['height'])\n",
        "\n",
        "image = cv2.imread(\"/content/drive/MyDrive/1-018.jpg\")\n",
        "\n",
        "roi = image[roi_y:roi_y+roi_height, roi_x:roi_x+roi_width]\n",
        "print(roi)\n",
        "\n",
        "cv2.imwrite(\"roi.jpeg\", roi)\n",
        "\n",
        "# visualizar o prediction\n",
        "# model.predict(\"/content/1-126.jpg\", confidence=50, overlap=50).save(\"prediction.jpg\")\n"
      ],
      "metadata": {
        "id": "Kl-hCKNeNDnS"
      },
      "execution_count": null,
      "outputs": []
    },
    {
      "cell_type": "code",
      "source": [
        "from google.colab import drive\n",
        "drive.mount('/content/drive')"
      ],
      "metadata": {
        "id": "tz5-BD2EQUnZ"
      },
      "execution_count": null,
      "outputs": []
    },
    {
      "cell_type": "code",
      "source": [
        "import pandas as pd\n",
        "import re\n",
        "import cv2\n",
        "from roboflow import Roboflow\n",
        "import os\n",
        "import glob"
      ],
      "metadata": {
        "id": "poIhbZOMQd__"
      },
      "execution_count": 13,
      "outputs": []
    },
    {
      "cell_type": "code",
      "source": [
        "dataset = '/content/drive/MyDrive/Inteligência Artificial/CBIS-DDSM'"
      ],
      "metadata": {
        "id": "aahq6N_EQeN6"
      },
      "execution_count": 14,
      "outputs": []
    },
    {
      "cell_type": "code",
      "source": [
        "dicom_data = pd.read_csv(dataset + '/csv/dicom_info.csv')"
      ],
      "metadata": {
        "id": "ku2pth9mQeRs"
      },
      "execution_count": 15,
      "outputs": []
    },
    {
      "cell_type": "code",
      "source": [
        "# patient_id, abnormality type, calc type, pathology, image file path\n",
        "\n",
        "calc_case_description_train_set = pd.read_csv(dataset + '/csv/calc_case_description_train_set.csv',\n",
        "                                              header=0,\n",
        "                                              usecols=[\"patient_id\", \"abnormality type\", \"calc type\", \"pathology\", \"image file path\"])\n",
        "\n",
        "calc_case_description_test_set = pd.read_csv(dataset + '/csv/calc_case_description_test_set.csv',\n",
        "                                             header=0,\n",
        "                                             usecols=[\"patient_id\", \"abnormality type\", \"calc type\", \"pathology\", \"image file path\"])\n",
        "\n",
        ""
      ],
      "metadata": {
        "id": "acxkdcABQndV"
      },
      "execution_count": 16,
      "outputs": []
    },
    {
      "cell_type": "code",
      "source": [
        "# patient_id, abnormality type, mass shape, pathology, image file path\n",
        "\n",
        "mass_case_description_train_set = pd.read_csv(dataset + '/csv/mass_case_description_test_set.csv',\n",
        "                                              header=0,\n",
        "                                              usecols=[\"patient_id\", \"abnormality type\", \"mass shape\", \"pathology\", \"image file path\"])\n",
        "\n",
        "mass_case_description_test_set = pd.read_csv(dataset + '/csv/mass_case_description_test_set.csv',\n",
        "                                                                                           header=0,\n",
        "                                              usecols=[\"patient_id\", \"abnormality type\", \"mass shape\", \"pathology\", \"image file path\"])\n",
        "\n",
        ""
      ],
      "metadata": {
        "id": "vSBs91ERQniP"
      },
      "execution_count": 17,
      "outputs": []
    },
    {
      "cell_type": "code",
      "source": [
        "def alterar_nome_da_pasta(nome):\n",
        "    teste = \"Mass-Test_P_00017_LEFT_CC/1.3.6.1.4.1.9590.100.1.2.289610447411344525237308079592285912683/1.3.6.1.4.1.9590.100.1.2.22131189612893294827907969600765582967/000000.dcm\"\n",
        "\n",
        "    padrao = r'.*?/.*?/(.*?)/'\n",
        "    resultado = re.search(padrao, nome)\n",
        "\n",
        "    if resultado:\n",
        "        string_desejada = resultado.group(1)\n",
        "        print(string_desejada)\n",
        "        return string_desejada\n",
        "    else:\n",
        "        # Caso a expressão regular não encontre um padrão correspondente, pode retornar algo apropriado ou levantar um erro.\n",
        "        print(\"Padrão não encontrado para:\", nome)\n",
        "        return None"
      ],
      "metadata": {
        "id": "WV9DwWnyQs4l"
      },
      "execution_count": 22,
      "outputs": []
    },
    {
      "cell_type": "code",
      "source": [
        "mass_case_description_train_set['image file path']\n",
        ""
      ],
      "metadata": {
        "id": "YW8KfwlSQs_p"
      },
      "execution_count": null,
      "outputs": []
    },
    {
      "cell_type": "code",
      "source": [
        "calc_case_description_train_set['image file path'] = mass_case_description_train_set['image file path'].apply(alterar_nome_da_pasta)\n",
        "\n",
        "calc_case_description_test_set['image file path'] = mass_case_description_train_set['image file path'].apply(alterar_nome_da_pasta)\n",
        "\n",
        "mass_case_description_train_set['image file path'] = mass_case_description_train_set['image file path'].apply(alterar_nome_da_pasta)\n",
        "\n",
        "mass_case_description_test_set['image file path'] = mass_case_description_test_set['image file path'].apply(alterar_nome_da_pasta)\n"
      ],
      "metadata": {
        "id": "4skXHPsJQyxs"
      },
      "execution_count": null,
      "outputs": []
    },
    {
      "cell_type": "code",
      "source": [
        "mass_case_description_train_set['image file path']"
      ],
      "metadata": {
        "id": "MenfFVglQy7a"
      },
      "execution_count": null,
      "outputs": []
    },
    {
      "cell_type": "code",
      "source": [
        "def obter_nomes_imagens(diretorio, extensoes=['*.jpg']):\n",
        "    caminho_completo = os.path.join(diretorio, '*')\n",
        "    nomes_imagens = []\n",
        "\n",
        "    for extensao in extensoes:\n",
        "        caminho_imagens = os.path.join(diretorio, extensao)\n",
        "        nomes_imagens.extend(glob.glob(caminho_imagens))\n",
        "\n",
        "    nomes_imagens = [os.path.basename(imagem) for imagem in nomes_imagens]\n",
        "    return nomes_imagens\n",
        "\n",
        "def cortar_imagem(nome_pasta):\n",
        "    rf = Roboflow(api_key=\"CEfThkqYjDhVzpzg2wJO\")\n",
        "    project = rf.workspace().project(\"breast-cancer-roi-n4ssp\")\n",
        "    model = project.version(1).model\n",
        "\n",
        "    # print(model.predict(\"/content/1-126.jpg\", confidence=50, overlap=50).json())\n",
        "\n",
        "    nome_pasta = dataset + '/jpeg/' + nome_pasta\n",
        "    nomes_imagens = obter_nomes_imagens(nome_pasta)\n",
        "\n",
        "    prediction = model.predict(nome_pasta + '/' + nomes_imagens[0], confidence=50, overlap=50).json()\n",
        "    prediction_list = prediction[\"predictions\"]\n",
        "    prediction_dict = prediction_list[0]\n",
        "\n",
        "    roi_x = int(prediction_dict['x'] - prediction_dict['width'] / 2)\n",
        "    roi_y = int(prediction_dict['y'] - prediction_dict['height'] / 2)\n",
        "    roi_width = int(prediction_dict['width'])\n",
        "    roi_height = int(prediction_dict['height'])\n",
        "\n",
        "    image = cv2.imread(nome_pasta + '/' + nomes_imagens[0])\n",
        "\n",
        "    roi = image[roi_y:roi_y+roi_height, roi_x:roi_x+roi_width]\n",
        "    # print(roi)\n",
        "\n",
        "    cv2.imwrite(nome_pasta + \"/roi_\" + nomes_imagens[0], roi)\n",
        "\n",
        "def processar_pastas(diretorio_raiz, dataframe):\n",
        "    for nome_pasta in dataframe['image file path']:\n",
        "        pasta_completa = os.path.join(diretorio_raiz, nome_pasta)\n",
        "        if os.path.isdir(pasta_completa):\n",
        "            cortar_imagem(nome_pasta)\n",
        "\n",
        "#Teste\n",
        "\n",
        "dataset = '/content/drive/MyDrive/Inteligência Artificial/CBIS-DDSM'\n",
        "\n",
        "# Carregar o dataframe calc_case_description_train_set\n",
        "calc_case_description_train_set = pd.read_csv(\n",
        "    dataset + '/csv/calc_case_description_train_set.csv',\n",
        "    header=0,\n",
        "    usecols=[\"patient_id\", \"abnormality type\", \"calc type\", \"pathology\", \"image file path\"]\n",
        ")\n",
        "\n",
        "# Carregar o dataframe calc_case_description_test_set\n",
        "calc_case_description_test_set = pd.read_csv(\n",
        "    dataset + '/csv/calc_case_description_test_set.csv',\n",
        "    header=0,\n",
        "    usecols=[\"patient_id\", \"abnormality type\", \"calc type\", \"pathology\", \"image file path\"]\n",
        ")\n",
        "\n",
        "# Carregar o dataframe mass_case_description_train_set\n",
        "mass_case_description_train_set = pd.read_csv(\n",
        "    dataset + '/csv/mass_case_description_train_set.csv',\n",
        "    header=0,\n",
        "    usecols=[\"patient_id\", \"abnormality type\", \"mass shape\", \"pathology\", \"image file path\"]\n",
        ")\n",
        "\n",
        "# Carregar o dataframe mass_case_description_test_set\n",
        "mass_case_description_test_set = pd.read_csv(\n",
        "    dataset + '/csv/mass_case_description_test_set.csv',\n",
        "    header=0,\n",
        "    usecols=[\"patient_id\", \"abnormality type\", \"mass shape\", \"pathology\", \"image file path\"]\n",
        ")\n",
        "# Caminho para o diretório de treinamento\n",
        "diretorio_treinamento = '/content/drive/MyDrive/Inteligência Artificial/CBIS-DDSM/csv/calc_case_description_train_set.csv'\n",
        "#diretorio_treinamento = '/content/drive/MyDrive/Inteligência Artificial/CBIS-DDSM/csv/mass_case_description_train_set.csv'\n",
        "\n",
        "# Caminho para o diretório de teste\n",
        "diretorio_teste = '/content/drive/MyDrive/Inteligência Artificial/CBIS-DDSM/csv/calc_case_description_test_set.csv'\n",
        "#diretorio_teste = '/content/drive/MyDrive/Inteligência Artificial/CBIS-DDSM/csv/mass_case_description_test_set.csv'\n",
        "\n",
        "# Chamar a função processar_pastas para o diretório de treinamento\n",
        "processar_pastas(diretorio_treinamento, mass_case_description_train_set)\n",
        "processar_pastas(diretorio_treinamento, calc_case_description_train_set)\n",
        "\n",
        "# Chamar a função processar_pastas para o diretório de teste\n",
        "processar_pastas(diretorio_teste, mass_case_description_test_set)\n",
        "processar_pastas(diretorio_teste, calc_case_description_test_set)"
      ],
      "metadata": {
        "id": "eANcD4LjRwH3"
      },
      "execution_count": 37,
      "outputs": []
    },
    {
      "cell_type": "code",
      "source": [],
      "metadata": {
        "id": "iIJ6HDsDQy_0"
      },
      "execution_count": null,
      "outputs": []
    }
  ]
}